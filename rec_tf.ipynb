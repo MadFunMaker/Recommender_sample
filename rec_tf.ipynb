{
 "cells": [
  {
   "cell_type": "markdown",
   "metadata": {},
   "source": [
    "# Tensor Factorization for Recommender Systems\n",
    "### - CP factorization on tensor (user, music, context)\n",
    "### - Written by ByungSoo Jeon, NAVER LABS"
   ]
  },
  {
   "cell_type": "code",
   "execution_count": 28,
   "metadata": {
    "collapsed": false
   },
   "outputs": [],
   "source": [
    "# Add system path to use scikit-tensor Library\n",
    "import sys\n",
    "sys.path.append('/Users/jbsimdicd/Library/Python/2.7/lib/python/site-packages')\n",
    "\n",
    "from scipy.io.matlab import loadmat\n",
    "from sktensor import dtensor, cp_als\n",
    "import numpy as np\n",
    "\n",
    "# Set logging to DEBUG to see CP-ALS information\n",
    "import logging\n",
    "logging.basicConfig(level=logging.DEBUG)"
   ]
  },
  {
   "cell_type": "markdown",
   "metadata": {},
   "source": [
    "### - Naive CP tensor factorization "
   ]
  },
  {
   "cell_type": "code",
   "execution_count": 29,
   "metadata": {
    "collapsed": true
   },
   "outputs": [],
   "source": [
    "# # Load Matlab data\n",
    "# mat = loadmat('../data/sensory-bread/brod.mat')\n",
    "# # Create dense tensor from numpy array\n",
    "# T = dtensor()\n",
    "# # Decompose tensor using CP-ALS\n",
    "# P, fit, itr, exectimes = cp_als(T, 3, init='random')"
   ]
  },
  {
   "cell_type": "markdown",
   "metadata": {},
   "source": [
    "### - Regularized CP tensor factorization (Multiverse Recommendation, RecSys 10)"
   ]
  },
  {
   "cell_type": "code",
   "execution_count": 109,
   "metadata": {
    "collapsed": true
   },
   "outputs": [],
   "source": [
    "def Regularized_CP_TF(X, A, B, C, R, steps=5000, alpha=0.0002, beta=0.02):\n",
    "    e = 0\n",
    "    for step in range(steps):\n",
    "        # Stochastic Gradient Descent(SGD) part\n",
    "        for i in range(len(X)):\n",
    "            for j in range(len(X[i])):\n",
    "                for k in range(len(X[i][j])):\n",
    "                    if X[i][j][k] > 0:\n",
    "                        eijk = X[i][j][k] - np.dot(A[i,:],np.multiply(B[j,:],C[k,:]))\n",
    "                        for r in range(R):\n",
    "                            A[i][r] = A[i][r] + alpha * (2 * eijk * B[j][r] * C[k][r] - beta * A[i][r])\n",
    "                            B[j][r] = B[j][r] + alpha * (2 * eijk * A[i][r] * C[k][r] - beta * B[j][r])\n",
    "                            C[k][r] = C[k][r] + alpha * (2 * eijk * B[j][r] * A[i][r] - beta * C[k][r])                            \n",
    "        \n",
    "        # Stop condition for SGD\n",
    "        e = 0\n",
    "        for i in range(len(X)):\n",
    "            for j in range(len(X[i])):\n",
    "                for k in range(len(X[i][j])):\n",
    "                    if X[i][j][k] > 0:\n",
    "                        e = e + pow(X[i][j][k] - np.dot(A[i,:],np.multiply(B[j,:],C[k,:])), 2)\n",
    "#                         for r in range(R):\n",
    "#                             e = e + (beta/2) * (pow(A[i][r],2) + pow(B[j][r],2) + pow(C[k][r],2))\n",
    "        if e < 0.001:\n",
    "            break\n",
    "    return A,B,C,e"
   ]
  },
  {
   "cell_type": "markdown",
   "metadata": {},
   "source": [
    "### - Regularized Tucker tensor factorization (a.k.a HOSVD)"
   ]
  },
  {
   "cell_type": "code",
   "execution_count": 121,
   "metadata": {
    "collapsed": true
   },
   "outputs": [],
   "source": [
    "def Regularized_Tucker_TF(X, A, B, C, G, P, Q, R, steps=20000, alpha=0.0002, beta=0.02):\n",
    "    e = 0\n",
    "    for step in range(steps):\n",
    "        # Stochastic Gradient Descent(SGD) part\n",
    "        for i in range(len(X)):\n",
    "            for j in range(len(X[i])):\n",
    "                for k in range(len(X[i][j])):\n",
    "                    if X[i][j][k] > 0:\n",
    "                        sum = 0\n",
    "                        for p in range(P):\n",
    "                            for q in range(Q):\n",
    "                                for r in range(R):\n",
    "                                    sum += G[p][q][r]*A[i][p]*B[j][q]*C[k][r]\n",
    "                        eijk = X[i][j][k] - sum\n",
    "                        \n",
    "                        for p in range(P):\n",
    "                            sum = 0\n",
    "                            for q in range(Q):\n",
    "                                for r in range(R):\n",
    "                                    sum += B[j][q]*C[k][r]*G[p][q][r]\n",
    "                            A[i][p] = A[i][p] + alpha * (2 * eijk * sum - beta * A[i][p])\n",
    "                        for q in range(Q):\n",
    "                            sum = 0\n",
    "                            for p in range(P):\n",
    "                                for r in range(R):\n",
    "                                    sum += A[i][p]*C[k][r]*G[p][q][r]\n",
    "                            B[j][q] = B[j][q] + alpha * (2 * eijk * sum - beta * B[j][q])\n",
    "                        for r in range(R):\n",
    "                            sum = 0\n",
    "                            for q in range(Q):\n",
    "                                for p in range(P):\n",
    "                                    sum += B[j][q]*A[i][p]*G[p][q][r]\n",
    "                            C[k][r] = C[k][r] + alpha * (2 * eijk * sum - beta * C[k][r])        \n",
    "                        for r in range(R):\n",
    "                            for q in range(Q):\n",
    "                                for p in range(P):\n",
    "                                    G[p][q][r] = G[p][q][r] + alpha*(2*A[i][p]*B[j][q]*C[k][r]-beta*G[p][q][r])\n",
    "        \n",
    "        # Stop condition for SGD\n",
    "        e = 0\n",
    "        for i in range(len(X)):\n",
    "            for j in range(len(X[i])):\n",
    "                for k in range(len(X[i][j])):\n",
    "                    if X[i][j][k] > 0:\n",
    "                        sum = 0\n",
    "                        for p in range(P):\n",
    "                            for q in range(Q):\n",
    "                                for r in range(R):\n",
    "                                    sum += G[p][q][r]*A[i][p]*B[j][q]*C[k][r]\n",
    "\n",
    "                        e = e + pow(X[i][j][k] - sum, 2)\n",
    "                        \n",
    "#                         for p in range(P):\n",
    "#                             e = e + (beta/2) * pow(A[i][p],2)\n",
    "#                         for q in range(Q):\n",
    "#                             e = e + (beta/2) * pow(B[j][q],2)\n",
    "#                         for p in range(R):\n",
    "#                             e = e + (beta/2) * pow(C[k][r],2)\n",
    "\n",
    "        if e < 0.001:\n",
    "            break\n",
    "    return A,B,C,G,e"
   ]
  },
  {
   "cell_type": "markdown",
   "metadata": {},
   "source": [
    "### - Main function for CP"
   ]
  },
  {
   "cell_type": "code",
   "execution_count": 122,
   "metadata": {
    "collapsed": false
   },
   "outputs": [
    {
     "name": "stdout",
     "output_type": "stream",
     "text": [
      "1.97233010163\n"
     ]
    }
   ],
   "source": [
    "if __name__ == \"__main__\":\n",
    "    X = [1,2,3,4,5,6,7,8,9,10,11,12]\n",
    "    X = np.array(X)\n",
    "    X = X.reshape(2,2,3)\n",
    "    R = 2\n",
    "\n",
    "    A = np.random.rand(len(X),R)\n",
    "    B = np.random.rand(len(X[0]),R)\n",
    "    C = np.random.rand(len(X[0][0]),R)\n",
    "    \n",
    "    A, B, C, e = Regularized_TF(X, A, B, C, R)\n",
    "    print (e)"
   ]
  },
  {
   "cell_type": "markdown",
   "metadata": {},
   "source": [
    "### - Main function for Tucker"
   ]
  },
  {
   "cell_type": "code",
   "execution_count": 123,
   "metadata": {
    "collapsed": false
   },
   "outputs": [
    {
     "name": "stderr",
     "output_type": "stream",
     "text": [
      "/Users/jbsimdicd/anaconda/lib/python3.5/site-packages/ipykernel/__main__.py:51: RuntimeWarning: overflow encountered in double_scalars\n",
      "/Users/jbsimdicd/anaconda/lib/python3.5/site-packages/ipykernel/__main__.py:49: RuntimeWarning: overflow encountered in double_scalars\n",
      "/Users/jbsimdicd/anaconda/lib/python3.5/site-packages/ipykernel/__main__.py:21: RuntimeWarning: overflow encountered in double_scalars\n",
      "/Users/jbsimdicd/anaconda/lib/python3.5/site-packages/ipykernel/__main__.py:21: RuntimeWarning: invalid value encountered in double_scalars\n"
     ]
    },
    {
     "name": "stdout",
     "output_type": "stream",
     "text": [
      "[[[ nan  nan]\n",
      "  [ nan  nan]]\n",
      "\n",
      " [[ nan  nan]\n",
      "  [ nan  nan]]]\n",
      "nan\n"
     ]
    }
   ],
   "source": [
    "if __name__ == \"__main__\":\n",
    "    X = [1,2,3,4,5,6,7,8,9,10,11,12]\n",
    "    X = np.array(X)\n",
    "    X = X.reshape(2,2,3)\n",
    "    P, Q, R = 2, 2, 2\n",
    "\n",
    "    A = np.random.rand(len(X),P)\n",
    "    B = np.random.rand(len(X[0]),Q)\n",
    "    C = np.random.rand(len(X[0][0]),R)\n",
    "    G = np.random.rand(P,Q,R)\n",
    "    \n",
    "    A,B,C,G,e = Regularized_Tucker_TF(X,A,B,C,G,P,Q,R)\n",
    "    print (G)\n",
    "    print (e)"
   ]
  },
  {
   "cell_type": "code",
   "execution_count": null,
   "metadata": {
    "collapsed": true
   },
   "outputs": [],
   "source": []
  }
 ],
 "metadata": {
  "anaconda-cloud": {},
  "kernelspec": {
   "display_name": "Python [conda root]",
   "language": "python",
   "name": "conda-root-py"
  },
  "language_info": {
   "codemirror_mode": {
    "name": "ipython",
    "version": 3
   },
   "file_extension": ".py",
   "mimetype": "text/x-python",
   "name": "python",
   "nbconvert_exporter": "python",
   "pygments_lexer": "ipython3",
   "version": "3.5.2"
  }
 },
 "nbformat": 4,
 "nbformat_minor": 1
}
