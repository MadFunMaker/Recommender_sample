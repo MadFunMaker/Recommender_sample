{
 "cells": [
  {
   "cell_type": "markdown",
   "metadata": {},
   "source": [
    "# Tensor Factorization for Recommender Systems\n",
    "### - CP factorization on tensor (user, music, context)\n",
    "### - Written by ByungSoo Jeon, NAVER LABS"
   ]
  },
  {
   "cell_type": "code",
   "execution_count": 70,
   "metadata": {
    "collapsed": false
   },
   "outputs": [],
   "source": [
    "# Add system path to use scikit-tensor Library\n",
    "import sys\n",
    "import sktensor as skt\n",
    "import numpy as np\n",
    "import math\n",
    "\n",
    "# Set logging to DEBUG to see CP-ALS information\n",
    "import logging\n",
    "logging.basicConfig(level=logging.DEBUG)\n",
    "\n",
    "# Use sparse matrix format\n",
    "from scipy import sparse"
   ]
  },
  {
   "cell_type": "markdown",
   "metadata": {},
   "source": [
    "### - Regularized matrix factorization"
   ]
  },
  {
   "cell_type": "code",
   "execution_count": 71,
   "metadata": {
    "collapsed": true
   },
   "outputs": [],
   "source": [
    "def matrix_factorization(R, P, Q, K, steps=5000, alpha=0.0002, beta=0.02):\n",
    "    Q = Q.T\n",
    "    e = 0\n",
    "    for step in range(steps):\n",
    "        for i in range(len(R)):\n",
    "            for j in range(len(R[i])):\n",
    "                if R[i][j] > 0:\n",
    "                    eij = R[i][j] - numpy.dot(P[i,:],Q[:,j])\n",
    "                    for k in range(K):\n",
    "                        P[i][k] = P[i][k] + alpha * (2 * eij * Q[k][j] - beta * P[i][k])\n",
    "                        Q[k][j] = Q[k][j] + alpha * (2 * eij * P[i][k] - beta * Q[k][j])\n",
    "        eR = numpy.dot(P,Q)\n",
    "        e = 0\n",
    "        for i in range(len(R)):\n",
    "            for j in range(len(R[i])):\n",
    "                if R[i][j] > 0:\n",
    "                    e = e + pow(R[i][j] - numpy.dot(P[i,:],Q[:,j]), 2)\n",
    "#                     for k in range(K):\n",
    "#                         e = e + (beta/2) * ( pow(P[i][k],2) + pow(Q[k][j],2) )\n",
    "        if e < 0.001:\n",
    "            break\n",
    "    return P, Q.T, e"
   ]
  },
  {
   "cell_type": "markdown",
   "metadata": {},
   "source": [
    "### - Regularized CP tensor factorization (Multiverse Recommendation, RecSys 10)"
   ]
  },
  {
   "cell_type": "code",
   "execution_count": 92,
   "metadata": {
    "collapsed": false
   },
   "outputs": [],
   "source": [
    "def Regularized_CP_TF(X, A, B, C, R, steps=10000, alpha=0.0002, beta=0.02):\n",
    "    e = 0\n",
    "    for step in range(steps):\n",
    "        nNnz = 0\n",
    "        # Stochastic Gradient Descent(SGD) part\n",
    "        for idx in range(len(X)):\n",
    "            i = X[idx][0]\n",
    "            j = X[idx][1]\n",
    "            k = X[idx][2]\n",
    "            val = X[idx][3]\n",
    "            if val > 0:\n",
    "                eijk = val - np.dot(A[i,:],np.multiply(B[j,:],C[k,:]))\n",
    "                nNnz+=1\n",
    "                for r in range(R):\n",
    "                    A[i][r] = A[i][r] + alpha * (2 * eijk * B[j][r] * C[k][r] - beta * A[i][r])\n",
    "                    B[j][r] = B[j][r] + alpha * (2 * eijk * A[i][r] * C[k][r] - beta * B[j][r])\n",
    "                    C[k][r] = C[k][r] + alpha * (2 * eijk * B[j][r] * A[i][r] - beta * C[k][r])                            \n",
    "        \n",
    "        # Stop condition for SGD\n",
    "        e = 0\n",
    "        for idx in range(len(X)):\n",
    "            i = X[idx][0]\n",
    "            j = X[idx][1]\n",
    "            k = X[idx][2]\n",
    "            val = X[idx][3]\n",
    "            if val > 0:\n",
    "                e = e + pow(val - np.dot(A[i,:],np.multiply(B[j,:],C[k,:])), 2)\n",
    "#                 for r in range(R):\n",
    "#                     e = e + (beta/2) * (pow(A[i][r],2) + pow(B[j][r],2) + pow(C[k][r],2))\n",
    "        # Convert error to RMSE\n",
    "        e = math.sqrt(e/nNnz)\n",
    "        if e < 0.3:\n",
    "            print (\"[TF for RS] Target RMSE(0.3) is reached.\")\n",
    "            break\n",
    "        if (step%100==0) :\n",
    "            print (\"[TF for RS] \"+str(step)+\"/\"+str(steps)+\" steps done.\")\n",
    "    return A,B,C,e"
   ]
  },
  {
   "cell_type": "markdown",
   "metadata": {},
   "source": [
    "### - Input utility matrix"
   ]
  },
  {
   "cell_type": "code",
   "execution_count": 93,
   "metadata": {
    "collapsed": false
   },
   "outputs": [],
   "source": [
    "def Read_Utility_Matrix():\n",
    "    # Read meta data to build dictionary in order to change matrix to tensor.\n",
    "    metadata_file = open(\"full_meta_data.txt\",\"r\")\n",
    "    lines = metadata_file.readlines()\n",
    "    item_context_dic = {}\n",
    "    nContext = 0\n",
    "\n",
    "    # For now, context is Artist ID\n",
    "    for line in lines:\n",
    "        try:            \n",
    "            item = int(line.split(\"\\t\")[0])\n",
    "            context = int(line.split(\"\\t\")[2])\n",
    "        except:\n",
    "            pass\n",
    "        else:\n",
    "            item_context_dic[item] = context\n",
    "            if (nContext < context+1) :\n",
    "                nContext = context+1\n",
    "            \n",
    "    metadata_file.close()\n",
    "    print (\"[TF for RS] Reading Metadata done.\")\n",
    "    \n",
    "    # Read matrix data\n",
    "    rating_file = open(\"train_data\",\"r\")\n",
    "    lines = rating_file.readlines()\n",
    "    users, items, ratings = [], [], []\n",
    "    nUser, nItem = 0, 0\n",
    "    \n",
    "    for line in lines:\n",
    "        user = int(line.split(\"\\t\")[0])\n",
    "        item = int(line.split(\"\\t\")[1])\n",
    "        rating = float(line.split(\"\\t\")[2])\n",
    "        users.append(user)\n",
    "        items.append(item)\n",
    "        ratings.append(rating)\n",
    "        if (nUser < user+1) :\n",
    "            nUser = user+1\n",
    "        if (nItem < item+1) :\n",
    "            nItem = item+1\n",
    "            \n",
    "    rating_file.close()\n",
    "    \n",
    "    print (\"# of User, Item, Context : \"+str(nUser)+\", \"+str(nItem)+\", \"+str(nContext))\n",
    "    \n",
    "    X =[]\n",
    "    for i in range(len(users)):\n",
    "        if items[i] in item_context_dic: # If there is no context information, exclude it.\n",
    "            X.append([users[i], items[i], item_context_dic[items[i]], ratings[i]])\n",
    "    return nUser, nItem, nContext, X"
   ]
  },
  {
   "cell_type": "markdown",
   "metadata": {},
   "source": [
    "### - Main function for CP"
   ]
  },
  {
   "cell_type": "code",
   "execution_count": 94,
   "metadata": {
    "collapsed": false,
    "scrolled": true
   },
   "outputs": [
    {
     "name": "stdout",
     "output_type": "stream",
     "text": [
      "[TF for RS] Reading Metadata done.\n",
      "# of User, Item, Context : 3, 4, 4\n",
      "[TF for RS] Reading ratings done.\n",
      "[TF for RS] 0/10000 steps done.\n",
      "[TF for RS] 100/10000 steps done.\n",
      "[TF for RS] 200/10000 steps done.\n",
      "[TF for RS] 300/10000 steps done.\n",
      "[TF for RS] 400/10000 steps done.\n",
      "[TF for RS] 500/10000 steps done.\n",
      "[TF for RS] 600/10000 steps done.\n",
      "[TF for RS] 700/10000 steps done.\n",
      "[TF for RS] 800/10000 steps done.\n",
      "[TF for RS] 900/10000 steps done.\n",
      "[TF for RS] 1000/10000 steps done.\n",
      "[TF for RS] 1100/10000 steps done.\n",
      "[TF for RS] 1200/10000 steps done.\n",
      "[TF for RS] 1300/10000 steps done.\n",
      "[TF for RS] 1400/10000 steps done.\n",
      "[TF for RS] 1500/10000 steps done.\n",
      "[TF for RS] 1600/10000 steps done.\n",
      "[TF for RS] 1700/10000 steps done.\n",
      "[TF for RS] 1800/10000 steps done.\n",
      "[TF for RS] Target RMSE(0.3) is reached.\n",
      "[TF for RS] RMSE : 0.299416414002\n"
     ]
    }
   ],
   "source": [
    "if __name__ == \"__main__\":\n",
    "#     X = [1,2,3,4,5,6,7,8,9,10,11,12]\n",
    "#     X = np.array(X)\n",
    "#     X = X.reshape(2,2,3)\n",
    "\n",
    "    nUser, nItem, nContext, X = Read_Utility_Matrix()\n",
    "    print (\"[TF for RS] Reading ratings done.\")\n",
    "    R = 2\n",
    "\n",
    "    A = np.random.rand(nUser,R)\n",
    "    B = np.random.rand(nItem,R)\n",
    "    C = np.random.rand(nContext,R)\n",
    "    \n",
    "    A, B, C, e = Regularized_CP_TF(X, A, B, C, R)\n",
    "    print (\"[TF for RS] RMSE : \"+str(e))\n",
    "\n",
    "#     print (A)\n",
    "#     print (B)\n",
    "#     print (C)\n",
    "#     D = np.transpose(skt.khatrirao((C,B)))\n",
    "#     print(np.matmul(A,D))\n",
    "#     print(X)"
   ]
  },
  {
   "cell_type": "markdown",
   "metadata": {},
   "source": [
    "### - Naive CP tensor factorization "
   ]
  },
  {
   "cell_type": "code",
   "execution_count": 53,
   "metadata": {
    "collapsed": false
   },
   "outputs": [],
   "source": [
    "# if __name__ == \"__main__\":\n",
    "#     # Load Matlab data\n",
    "#     X = Read_Utility_Matrix()\n",
    "#     # Create dense tensor from numpy array\n",
    "#     T = skt.dtensor(X)\n",
    "#     # Decompose tensor using CP-ALS\n",
    "#     P, fit, itr, exectimes = skt.cp_als(T, 2, init='random')\n",
    "#     print (P.U)"
   ]
  },
  {
   "cell_type": "code",
   "execution_count": null,
   "metadata": {
    "collapsed": true
   },
   "outputs": [],
   "source": []
  }
 ],
 "metadata": {
  "anaconda-cloud": {},
  "kernelspec": {
   "display_name": "Python 2",
   "language": "python",
   "name": "python2"
  },
  "language_info": {
   "codemirror_mode": {
    "name": "ipython",
    "version": 2
   },
   "file_extension": ".py",
   "mimetype": "text/x-python",
   "name": "python",
   "nbconvert_exporter": "python",
   "pygments_lexer": "ipython2",
   "version": "2.7.13"
  }
 },
 "nbformat": 4,
 "nbformat_minor": 1
}
